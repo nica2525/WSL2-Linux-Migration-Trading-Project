{
 "cells": [
  {
   "cell_type": "code",
   "execution_count": null,
   "metadata": {},
   "outputs": [],
   "source": [
    "# Jupyter MCP動作確認テスト\n",
    "import pandas as pd\n",
    "import numpy as np\n",
    "import matplotlib.pyplot as plt\n",
    "\n",
    "print(\"✅ Jupyter MCP Test Notebook Ready\")\n",
    "print(f\"Pandas version: {pd.__version__}\")\n",
    "print(f\"NumPy version: {np.__version__}\")"
   ]
  },
  {
   "cell_type": "code",
   "execution_count": null,
   "metadata": {},
   "outputs": [],
   "source": [
    "# バックテストデータサンプル生成\n",
    "np.random.seed(42)\n",
    "dates = pd.date_range('2025-01-01', periods=100, freq='D')\n",
    "prices = 100 + np.cumsum(np.random.randn(100) * 0.5)\n",
    "df = pd.DataFrame({\n",
    "    'Date': dates,\n",
    "    'Price': prices,\n",
    "    'Returns': np.concatenate([[0], np.diff(prices)])\n",
    "})\n",
    "\n",
    "print(\"📊 Sample backtest data generated:\")\n",
    "df.head()"
   ]
  },
  {
   "cell_type": "code",
   "execution_count": null,
   "metadata": {},
   "outputs": [],
   "source": [
    "# 価格チャート可視化\n",
    "plt.figure(figsize=(12, 6))\n",
    "plt.plot(df['Date'], df['Price'], linewidth=2, color='blue')\n",
    "plt.title('Price Movement - Sample Data', fontsize=14)\n",
    "plt.xlabel('Date')\n",
    "plt.ylabel('Price')\n",
    "plt.grid(True, alpha=0.3)\n",
    "plt.xticks(rotation=45)\n",
    "plt.tight_layout()\n",
    "plt.show()\n",
    "\n",
    "print(f\"📈 Price range: {df['Price'].min():.2f} - {df['Price'].max():.2f}\")"
   ]
  }
 ],
 "metadata": {
  "kernelspec": {
   "display_name": "Python 3",
   "language": "python",
   "name": "python3"
  },
  "language_info": {
   "codemirror_mode": {
    "name": "ipython",
    "version": 3
   },
   "file_extension": ".py",
   "mimetype": "text/x-python",
   "name": "python",
   "nbconvert_exporter": "python",
   "pygments_lexer": "ipython3",
   "version": "3.10.0"
  }
 },
 "nbformat": 4,
 "nbformat_minor": 4
}